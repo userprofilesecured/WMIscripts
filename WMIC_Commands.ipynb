{
  "nbformat": 4,
  "nbformat_minor": 0,
  "metadata": {
    "colab": {
      "provenance": [],
      "authorship_tag": "ABX9TyPfV9ExxkBH416abTc0xGdO",
      "include_colab_link": true
    },
    "kernelspec": {
      "name": "python3",
      "display_name": "Python 3"
    },
    "language_info": {
      "name": "python"
    }
  },
  "cells": [
    {
      "cell_type": "markdown",
      "metadata": {
        "id": "view-in-github",
        "colab_type": "text"
      },
      "source": [
        "<a href=\"https://colab.research.google.com/github/userprofilesecured/WMIscripts/blob/main/WMIC_Commands.ipynb\" target=\"_parent\"><img src=\"https://colab.research.google.com/assets/colab-badge.svg\" alt=\"Open In Colab\"/></a>"
      ]
    },
    {
      "cell_type": "markdown",
      "source": [
        "# **Few WMIC Commands which can be called from powershell and commandprompt**\n",
        "### System Serial Number\n",
        "`wmic bios get serialnumber` \n",
        "# Installed Updates in Windows \n",
        "`wmic qfe list `\n",
        "#Installed Applications in Windows \n",
        "`wmic product get name` \n",
        "#Count the number of Installed Updates in Windows \n",
        "`wmic qfe list | find /c /v \"\" `\n",
        "#Total Number of CPU Cores in Windows\n",
        "`wmic cpu get numberofcores `\n",
        "# Process Id of a running program in Windows\n",
        "`wmic process where ExecutablePath='C:\\\\windows\\\\system32\\\\notepad.exe' get ProcessId`\n",
        "#System Bios Version using wmic command\n",
        "`wmic bios get version `\n",
        "#List of all running Processes using wmic command\n",
        "`wmic process list` \n",
        "#Executable path of a running process \n",
        "`wmic process where \"name='chrome.exe'\" get ProcessID, ExecutablePath `\n",
        "#Information about System CPU\n",
        "`wmic CPU Get DeviceID,NumberOfCores,NumberOfLogicalProcessors` \n",
        "# System Slot Status using wmic command \n",
        "`wmic systemslot get slotdesignation,currentusage,description,status `\n",
        "\n"
      ],
      "metadata": {
        "id": "cGAiNPYc1IH0"
      }
    }
  ]
}